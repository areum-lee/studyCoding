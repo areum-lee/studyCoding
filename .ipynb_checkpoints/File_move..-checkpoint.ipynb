{
 "cells": [
  {
   "cell_type": "markdown",
   "metadata": {},
   "source": [
    "## 파일 Path"
   ]
  },
  {
   "cell_type": "code",
   "execution_count": 3,
   "metadata": {
    "collapsed": false
   },
   "outputs": [
    {
     "name": "stdout",
     "output_type": "stream",
     "text": [
      "['C:/Users/AREUM/Desktop/0_git/studyCoding/files/DCM\\\\51773128']\n"
     ]
    }
   ],
   "source": [
    "import scipy.misc\n",
    "import os\n",
    "import cv2\n",
    "import numpy as np\n",
    "import glob\n",
    "import sys\n",
    "import pickle\n",
    "import codecs\n",
    "import SimpleITK as sitk\n",
    "import matplotlib.pyplot as plt\n",
    "%matplotlib inline\n",
    "\n",
    "folder_list_directory = sorted(glob.glob('C:/Users/AREUM/Desktop/0_git/studyCoding/files/DCM/*'))\n",
    "\n",
    "print folder_list_directory\n"
   ]
  },
  {
   "cell_type": "markdown",
   "metadata": {},
   "source": [
    "## Path 탐색"
   ]
  },
  {
   "cell_type": "code",
   "execution_count": 4,
   "metadata": {
    "collapsed": false
   },
   "outputs": [
    {
     "name": "stdout",
     "output_type": "stream",
     "text": [
      "C:/Users/AREUM/Desktop/0_git/studyCoding/files/DCM\\51773128\n"
     ]
    }
   ],
   "source": [
    "folder_list_directory = sorted(glob.glob('C:/Users/AREUM/Desktop/0_git/studyCoding/files/DCM/*'))\n",
    "for file_txt_path in folder_list_directory:\n",
    "    print file_txt_path"
   ]
  },
  {
   "cell_type": "markdown",
   "metadata": {},
   "source": [
    "## 폴더 만들기"
   ]
  },
  {
   "cell_type": "code",
   "execution_count": 5,
   "metadata": {
    "collapsed": true
   },
   "outputs": [],
   "source": [
    "savepath = os.path.join('C:/Users/AREUM/Desktop/0_git/studyCoding/files/test')\n",
    "\n",
    "if not os.path.isdir(savepath):\n",
    "        os.mkdir(savepath)"
   ]
  },
  {
   "cell_type": "markdown",
   "metadata": {},
   "source": [
    "## 문자열 split"
   ]
  },
  {
   "cell_type": "code",
   "execution_count": 6,
   "metadata": {
    "collapsed": false
   },
   "outputs": [
    {
     "name": "stdout",
     "output_type": "stream",
     "text": [
      "C:/Users/AREUM/Desktop/0_git/studyCoding/files\n",
      "test\n"
     ]
    }
   ],
   "source": [
    "patient_folder, patient_name = os.path.split(savepath)\n",
    "print patient_folder\n",
    "print patient_name"
   ]
  },
  {
   "cell_type": "code",
   "execution_count": 8,
   "metadata": {
    "collapsed": false
   },
   "outputs": [
    {
     "name": "stdout",
     "output_type": "stream",
     "text": [
      "C:/Users/AREUM/Desktop/0\n"
     ]
    }
   ],
   "source": [
    "\n",
    "a,b=patient_folder.split('_')\n",
    "print a"
   ]
  },
  {
   "cell_type": "code",
   "execution_count": null,
   "metadata": {
    "collapsed": true
   },
   "outputs": [],
   "source": []
  }
 ],
 "metadata": {
  "kernelspec": {
   "display_name": "Python 2",
   "language": "python",
   "name": "python2"
  },
  "language_info": {
   "codemirror_mode": {
    "name": "ipython",
    "version": 2
   },
   "file_extension": ".py",
   "mimetype": "text/x-python",
   "name": "python",
   "nbconvert_exporter": "python",
   "pygments_lexer": "ipython2",
   "version": "2.7.13"
  }
 },
 "nbformat": 4,
 "nbformat_minor": 2
}
