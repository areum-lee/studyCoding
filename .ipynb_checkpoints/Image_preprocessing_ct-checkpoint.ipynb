{
 "cells": [
  {
   "cell_type": "markdown",
   "metadata": {},
   "source": [
    "## windowing value 변경"
   ]
  },
  {
   "cell_type": "code",
   "execution_count": 5,
   "metadata": {
    "collapsed": false
   },
   "outputs": [
    {
     "name": "stdout",
     "output_type": "stream",
     "text": [
      "['C:/Users/AREUM/Desktop/0_git/studyCoding/files/DCM\\\\51773128\\\\5177312800000000.dcm']\n",
      "dicom Max, Min 값\n",
      "1654.0 -1018.0\n",
      "C:/Users/AREUM/Desktop/0_git/studyCoding/files\\5177312800000000.png\n"
     ]
    }
   ],
   "source": [
    "import os\n",
    "import glob\n",
    "import numpy as np\n",
    "import SimpleITK as sitk\n",
    "import cv2\n",
    "import dicom,shutil\n",
    "from shutil import copyfile\n",
    "import codecs,shutil\n",
    "from operator import eq\n",
    "\n",
    "\n",
    "# 폴더구성 DCM폴더/환자단위 세부 폴더 / .dcm 파일들\n",
    "new_folder_list=sorted(glob.glob('C:/Users/AREUM/Desktop/0_git/studyCoding/files/DCM/*'))\n",
    "save_path='C:/Users/AREUM/Desktop/0_git/studyCoding/files'\n",
    "\n",
    "for patient_path in new_folder_list:\n",
    "    \n",
    "    folder_dcm_path = sorted(glob.glob(os.path.join(patient_path + '/*.dcm')))\n",
    "\n",
    "    for dcm_path in folder_dcm_path:\n",
    "        image= sitk.ReadImage(dcm_path)\n",
    "        dicom = sitk.GetArrayFromImage(image).astype(\"float32\")\n",
    "    \n",
    "        print (\"dicom Max, Min 값\")\n",
    "        print dicom.max(), dicom.min()\n",
    "        dicom[dicom < -1024.] = -1024.\n",
    "        dicom[dicom > 3072.] = 3072.\n",
    "        \n",
    "        center = 40 # Windowing Level\n",
    "        width = 160 # Windowing width\n",
    "\n",
    "        low = center - width / 2\n",
    "        high = center + width / 2\n",
    "        dicom = (dicom-low) / (high-low)\n",
    "        dicom[dicom < 0.] = 0\n",
    "        dicom[dicom > 1.] = 1\n",
    "\n",
    "        dicom *= 2**16-1\n",
    "\n",
    "        dicom = dicom.astype(np.uint16)\n",
    "\n",
    "\n",
    "        pngkk=os.path.basename(dcm_path)[:-4]\n",
    "\n",
    "        png_name =os.path.join(save_path, '%s.png' % pngkk)\n",
    "        print png_name\n",
    "        cv2.imwrite(png_name, dicom[0])"
   ]
  },
  {
   "cell_type": "code",
   "execution_count": null,
   "metadata": {
    "collapsed": true
   },
   "outputs": [],
   "source": []
  }
 ],
 "metadata": {
  "kernelspec": {
   "display_name": "Python 2",
   "language": "python",
   "name": "python2"
  },
  "language_info": {
   "codemirror_mode": {
    "name": "ipython",
    "version": 2
   },
   "file_extension": ".py",
   "mimetype": "text/x-python",
   "name": "python",
   "nbconvert_exporter": "python",
   "pygments_lexer": "ipython2",
   "version": "2.7.13"
  }
 },
 "nbformat": 4,
 "nbformat_minor": 2
}
