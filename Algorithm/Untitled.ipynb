{
 "cells": [
  {
   "cell_type": "markdown",
   "metadata": {},
   "source": [
    "길이가 n인 배열에 1부터 n까지 숫자가 중복 없이 한 번씩 들어 있는지를 확인하려고 합니다.\n",
    "1부터 n까지 숫자가 중복 없이 한 번씩 들어 있는 경우 true를, 아닌 경우 false를 반환하도록 함수 solution을 완성해주세요.\n",
    "\n",
    "제한사항\n",
    "배열의 길이는 10만 이하입니다.\n",
    "배열의 원소는 10만 이하의 자연수입니다.\n",
    "입출력 예\n",
    "arr\tresult\n",
    "[4, 1, 3, 2]\ttrue\n",
    "[4, 1, 3]  false"
   ]
  },
  {
   "cell_type": "code",
   "execution_count": null,
   "metadata": {
    "collapsed": false
   },
   "outputs": [],
   "source": [
    "# a = raw_input().split()\n",
    "\n",
    "a=list(map(int, raw_input().split()))\n",
    "\n",
    "assert len(a) <= 100000\n",
    "\n",
    "u=0\n",
    "for k in xrange(len(a)):\n",
    "    if a[k] > 10:\n",
    "        u=0\n",
    "        break;\n",
    "    else:\n",
    "        u=1\n",
    "\n",
    "        \n",
    "if u==1:\n",
    "    b=list(set(a))\n",
    "\n",
    "    for cnt in range(1,len(a)+1):\n",
    "        print cnt\n",
    "        if cnt not in b:\n",
    "            print (\"false\")\n",
    "        else:\n",
    "            if cnt==len(a):\n",
    "                print (\"true\")\n",
    "            cnt=cnt+1\n",
    "        \n",
    "        \n",
    "\n",
    "    "
   ]
  },
  {
   "cell_type": "markdown",
   "metadata": {},
   "source": [
    "정수 n이 주어질때, 1부터 n까지의 정수를 순서대로 담은 배열을 리턴하도록 solution 함수를 작성했습니다. 이때, 코드가 올바르게 동작할 수 있도록 빈칸을 알맞게 채워주세요.\n",
    "\n",
    "정수 n이 solution 함수의 매개변수로 주어집니다.\n",
    "n은 1 이상 100,000이하인 정수입니다.\n",
    "\n",
    "\n",
    "예시\n",
    "arr\treturn\n",
    "3\t[1,2,3]\n",
    "5\t[1,2,3,4,5]"
   ]
  },
  {
   "cell_type": "code",
   "execution_count": null,
   "metadata": {
    "collapsed": false
   },
   "outputs": [],
   "source": [
    "n=int(raw_input())\n",
    "\n",
    "assert n>1\n",
    "assert n<100000\n",
    "\n",
    "results=[]\n",
    "def solution(n):\n",
    "    for cnt in range(1,n+1):\n",
    "        results.append(cnt)\n",
    "    \n",
    "    \n",
    "    return results\n",
    "\n",
    "\n",
    "\n",
    "result=solution(n)\n",
    "print result"
   ]
  },
  {
   "cell_type": "markdown",
   "metadata": {},
   "source": [
    "문자열이 주어졌을 때, 문자열에서 'p'와 'y'의 개수를 비교하려고 합니다.\n",
    "\n",
    "문자열 s가 매개변수로 주어졌을 때, 문자열에서 'p'의 개수와 'y'의 개수가 같으면 True, 다르면 False를 return 하는 함수를 작성했습니다. 그러나, 코드 일부분이 잘못되어있기 때문에, 몇몇 입력에 대해서는 올바르게 동작하지 않습니다.\n",
    "주어진 코드에서 한 줄만 변경해서 모든 입력에 대해 올바르게 동작하도록 수정하세요.\n",
    "\n",
    "\n",
    "매개변수 설명\n",
    "문자열 s가 solution 함수의 매개변수로 주어집니다.\n",
    "\n",
    "제한사항\n",
    "문자열 s의 길이 : 50 이하의 자연수\n",
    "문자열 s는 알파벳으로만 이루어져 있습니다.\n",
    "\n",
    "입출력 예\n",
    "s\tanswer\n",
    "pPoooyY\ttrue\n",
    "Pyy false"
   ]
  },
  {
   "cell_type": "code",
   "execution_count": null,
   "metadata": {
    "collapsed": false
   },
   "outputs": [],
   "source": [
    "s=raw_input()\n",
    "\n",
    "assert n>1\n",
    "assert n<100000\n",
    "\n",
    "results=[]\n",
    "def solution(s):\n",
    "    p_num, y_num = 0, 0\n",
    "    for i in range(0, len(s)) :\n",
    "        if s[i]=='p' or s[i]=='P':\n",
    "            p_num+=1\n",
    "            \n",
    "        elif s[i]=='y' or s[i]=='Y':\n",
    "            y_num+=1\n",
    "            \n",
    "    print p_num\n",
    "    print y_num\n",
    "    return p_num==y_num\n",
    "\n",
    "\n",
    "result=solution(s)\n",
    "print result"
   ]
  },
  {
   "cell_type": "markdown",
   "metadata": {},
   "source": [
    "1110"
   ]
  },
  {
   "cell_type": "code",
   "execution_count": null,
   "metadata": {
    "collapsed": false
   },
   "outputs": [],
   "source": [
    "number = str(input())\n",
    "\n",
    "count = 1\n",
    "assert int(number) >=0\n",
    "assert int(number)<=99\n",
    "\n",
    "## str 이니까 더하기 가능.\n",
    "if int(number) < 10:\n",
    "    new_number = str(0)+number\n",
    "else:\n",
    "    new_number = number\n",
    "\n",
    "sum_num = str(int(new_number[0])+int(new_number[1]))\n",
    "\n",
    "\n",
    "add_num = str(number[len(number)-1])+sum_num[len(sum_num)-1]\n",
    "\n",
    "## new_num 으로 했어야 했음.\n",
    "\n",
    "while add_num !=new_number:\n",
    "    sum_num = str(int(add_num[0])+int(add_num[1]))\n",
    "    \n",
    "    add_num = str(add_num[len(add_num)-1])+sum_num[len(sum_num)-1]\n",
    "    count +=1\n",
    "\n",
    "print (count)\n",
    "# while new_number != number :\n",
    "    \n",
    "#     count +=1"
   ]
  },
  {
   "cell_type": "code",
   "execution_count": null,
   "metadata": {
    "collapsed": false
   },
   "outputs": [],
   "source": [
    "number = list(map(int,raw_input().split()))\n",
    "\n",
    "for k in range(len(number)):\n",
    "    assert number[k]>0\n",
    "    assert number[k]<10\n",
    "\n",
    "print (float(number[0])/number[1])"
   ]
  },
  {
   "cell_type": "code",
   "execution_count": null,
   "metadata": {
    "collapsed": false
   },
   "outputs": [],
   "source": [
    "number = list(map(int,raw_input().split()))\n",
    "\n",
    "assert number[0]>=1\n",
    "assert number[0]<=12\n",
    "assert number[1]>=1\n",
    "assert number[1]<=31\n",
    "\n",
    "from datetime import date\n",
    "\n",
    "\n",
    "w = [\"MON\", \"TUE\", \"WED\", \"THU\", \"FRI\", \"SAT\", \"SUN\"]\n",
    "\n",
    "print(w[date(2007,number[0],number[1]).weekday()])"
   ]
  },
  {
   "cell_type": "code",
   "execution_count": null,
   "metadata": {
    "collapsed": false
   },
   "outputs": [],
   "source": [
    "def dn(n2):\n",
    "    if n2 < 10:\n",
    "        n = n2 + n2\n",
    "    elif n2 < 100:\n",
    "        strn = str(n2)\n",
    "        n = n2 + int(strn[0])+int(strn[1])\n",
    "    elif n2 < 1000:\n",
    "        strn = str(n2)\n",
    "        n = n2 + int(strn[0])+int(strn[1])+int(strn[2])\n",
    "    else:\n",
    "        strn = str(n2)\n",
    "        n = n2 + int(strn[0])+int(strn[1])+int(strn[2])+int(strn[3])\n",
    "    \n",
    "    return n\n",
    "\n",
    "\n",
    "dn_list = list()\n",
    "\n",
    "for i in range(10000):\n",
    "    dn_list.append(dn(i))\n",
    "    \n",
    "print_list = list((set(range(10000))) - set(dn_list))\n",
    "\n",
    "print_list.sort()\n",
    "for jj in print_list:\n",
    "    print (jj)"
   ]
  },
  {
   "cell_type": "code",
   "execution_count": null,
   "metadata": {
    "collapsed": false
   },
   "outputs": [],
   "source": [
    "stringg = list(map(str,raw_input().split()))\n",
    "\n",
    "print (len(stringg))"
   ]
  },
  {
   "cell_type": "code",
   "execution_count": null,
   "metadata": {
    "collapsed": false
   },
   "outputs": [],
   "source": [
    "number = int(raw_input())\n",
    "stack =[]\n",
    "assert number >=1\n",
    "assert number <=10000\n",
    "for i in range(number):\n",
    "    order = raw_input().split()\n",
    "    if order[0]==\"push\":\n",
    "        stack.append(int(order[1]))\n",
    "    \n",
    "    elif order[0]==\"pop\":\n",
    "        if len(stack)==0:\n",
    "            print (\"-1\")\n",
    "        else:\n",
    "            print (stack[-1])\n",
    "            stack.pop()       \n",
    "    elif order[0]==\"size\":\n",
    "        print (len(stack))\n",
    "        \n",
    "    elif order[0]==\"empty\":\n",
    "        if len(stack)==0:\n",
    "            print (\"1\")\n",
    "        else:\n",
    "            print(\"0\")\n",
    "    elif order[0]==\"top\":\n",
    "        if len(stack)==0:\n",
    "            print (\"-1\")\n",
    "        else:\n",
    "            print (stack[-1])      "
   ]
  },
  {
   "cell_type": "code",
   "execution_count": null,
   "metadata": {
    "collapsed": false
   },
   "outputs": [],
   "source": [
    "n=int(raw_input())\n",
    "\n",
    "\n",
    "for i in range(n):\n",
    "    num = raw_input()\n",
    "    stack =[]\n",
    "    cn=0\n",
    "    for j in range(len(num)):\n",
    "        if num[j]==\"(\":\n",
    "            stack.append(num[j])\n",
    "        elif num[j]==\")\":\n",
    "            # 중요. 비어있을 수도 있으니까?\n",
    "            if len(stack)>=1:\n",
    "                stack.pop()\n",
    "            else:\n",
    "                cn+=1\n",
    "    if len(stack)==0 and cn==0:\n",
    "        print(\"YES\")\n",
    "    else:\n",
    "        print(\"NO\")"
   ]
  },
  {
   "cell_type": "code",
   "execution_count": null,
   "metadata": {
    "collapsed": false
   },
   "outputs": [],
   "source": [
    "from Queue import Queue\n",
    "\n",
    "n = int(raw_input())\n",
    "assert n>=1 and n<=10000\n",
    "stack=Queue()\n",
    "for i in range(0,n):\n",
    "    text=raw_input().split()    \n",
    "    assert text[0]==\"push\" or text[0]==\"pop\" or text[0]==\"size\" or text[0]==\"empty\" or text[0]==\"front\" or text[0]==\"back\"\n",
    "    if text[0]==\"push\":\n",
    "        stack.put(int(text[1]))\n",
    "    elif text[0]==\"pop\":\n",
    "        if stack.qsize()==0:\n",
    "            print(-1)\n",
    "        else:\n",
    "            print(stack.get())\n",
    "    elif text[0]==\"size\":\n",
    "        print (stack.qsize())\n",
    "    elif text[0]==\"empty\":\n",
    "        if stack.empty():\n",
    "            print (1)\n",
    "        else:\n",
    "            print(0)            \n",
    "    elif text[0]==\"front\":\n",
    "        if stack.qsize()==0:\n",
    "            print(-1)\n",
    "        else:\n",
    "            print(stack.queue[0])\n",
    "    elif text[0]==\"back\":\n",
    "        if stack.qsize()==0:\n",
    "            print(-1)\n",
    "        else:\n",
    "            print (stack.queue[-1])\n",
    "\n",
    "        \n",
    "        \n",
    "print (stack.queue)"
   ]
  },
  {
   "cell_type": "code",
   "execution_count": null,
   "metadata": {
    "collapsed": false
   },
   "outputs": [],
   "source": [
    "from __future__ import print_function\n",
    "\n",
    "n,e,v=raw_input().split()\n",
    "n=int(n);e=int(e);v=int(v)\n",
    "d=dict()\n",
    "for _ in range(e):\n",
    "    i,j=raw_input().split()\n",
    "    i=int(i);j=int(j)\n",
    "    if i in d:\n",
    "        d[i]+=[j]\n",
    "    else:\n",
    "        d[i]=[j]\n",
    "    if j in d:\n",
    "        d[j]+=[i]\n",
    "    else:\n",
    "        d[j]=[i]\n",
    "\n",
    "visit=set()\n",
    "\n",
    "def dfs(i):\n",
    "    print(i,end=' ')\n",
    "    visit.add(i)\n",
    "    if i in d:\n",
    "        for x in d[i]:\n",
    "            if x not in visit:\n",
    "                dfs(x)\n",
    "                \n",
    "    print (visit)\n",
    "    \n",
    "    \n",
    "def bfs(i):\n",
    "    que=[]\n",
    "    visit=set()\n",
    "    que.insert(0,i)\n",
    "    while len(que) !=0:\n",
    "        x=que.pop()\n",
    "        visit.add(x)\n",
    "        print(x,end=' ')\n",
    "        if x in d:\n",
    "            for node in d[x]:\n",
    "                if node not in visit:\n",
    "                    visit.add(node)\n",
    "                    que.insert(0,node)\n",
    "        print (visit)\n",
    "dfs(v)\n",
    "print()\n",
    "bfs(v)\n",
    "print()"
   ]
  },
  {
   "cell_type": "markdown",
   "metadata": {},
   "source": [
    "앞뒤를 뒤집어도 똑같은 문자열을 팰린드롬(palindrome)이라고 합니다.\n",
    "문자열 s가 주어질 때, s의 부분문자열(Substring)중 가장 긴 팰린드롬의 길이를 return 하는 solution 함수를 완성해 주세요.\n",
    "\n",
    "예를들면, 문자열 s가 abcdcba이면 7을 return하고 abacde이면 3을 return합니다.\n",
    "\n",
    "\n",
    "제한사항\n",
    "문자열 s의 길이 : 2500 이하의 자연수\n",
    "문자열 s는 알파벳 소문자로만 구성\n",
    "입출력 예\n",
    "s\tanswer\n",
    "abcdcba\t7\n",
    "abacde\n"
   ]
  },
  {
   "cell_type": "code",
   "execution_count": null,
   "metadata": {
    "collapsed": false
   },
   "outputs": [],
   "source": [
    "v=str(raw_input())\n",
    "\n",
    "pc=[]\n",
    "for i in range(0,len(v)):\n",
    "    for j in range(1,len(v)+1):\n",
    "        if v[i:j] and str(v[i:j]) == str(v[i:j])[::-1]:\n",
    "            pc.append(len(s[i:j]))\n",
    "        if v[j:i] and str(v[j:i]) == str(v[j:i])[::-1]:\n",
    "            pc.append(len(s[j:i]))\n",
    "            \n",
    "            \n",
    "print (max(pc))"
   ]
  },
  {
   "cell_type": "code",
   "execution_count": null,
   "metadata": {
    "collapsed": false
   },
   "outputs": [],
   "source": [
    "v=str(raw_input())\n",
    "print (v)"
   ]
  },
  {
   "cell_type": "code",
   "execution_count": null,
   "metadata": {
    "collapsed": false
   },
   "outputs": [],
   "source": [
    "v[0]"
   ]
  },
  {
   "cell_type": "code",
   "execution_count": null,
   "metadata": {
    "collapsed": false
   },
   "outputs": [],
   "source": [
    "print (bin(120),5))"
   ]
  },
  {
   "cell_type": "code",
   "execution_count": null,
   "metadata": {
    "collapsed": false
   },
   "outputs": [],
   "source": [
    "\n",
    "v=raw_input().split()\n",
    "\n",
    "assert len(v)>=1 \n",
    "assert len(v)<=1000000\n",
    "\n",
    "for cnt in range(len(v)):\n",
    "    assert int(v[cnt])>=1\n",
    "    assert int(v[cnt])<=10\n",
    "\n",
    "\n",
    "    "
   ]
  },
  {
   "cell_type": "code",
   "execution_count": null,
   "metadata": {
    "collapsed": false
   },
   "outputs": [],
   "source": [
    "print (v)"
   ]
  },
  {
   "cell_type": "code",
   "execution_count": null,
   "metadata": {
    "collapsed": false
   },
   "outputs": [],
   "source": [
    "k=[2,2,1]\n",
    "\n",
    "k_list=k\n",
    "new=[]\n",
    "u=0\n",
    "\n",
    "# for u in range(len(k)):\n",
    "for j in range(1,max(k)+1):\n",
    "    if k[u]==max(k):\n",
    "        new.append(max(k))\n",
    "    elif k[u]==max(k)-j:\n",
    "\n",
    "\n",
    "\n",
    "    y=k-j\n",
    "    print (y) \n",
    "\n",
    "    \n",
    "    print (j)\n"
   ]
  },
  {
   "cell_type": "code",
   "execution_count": null,
   "metadata": {
    "collapsed": false
   },
   "outputs": [],
   "source": [
    "k=[3,2,1,2]\n",
    "\n",
    "list = sorted(k)\n",
    "new=[]\n",
    "\n",
    "ww={}\n",
    "for lst in k:\n",
    "    try: ww[lst] +=1\n",
    "    except: ww[lst]=1\n",
    "\n",
    "\n",
    "        \n",
    "for j in range(len(k)):\n",
    "    if k[j] in b:\n",
    "        print (b.index(k[j])+1)\n",
    "        u == ww[k[j]]\n",
    "        for \n",
    "        new.append(b.index(k[j])+1)\n",
    "\n",
    "\n",
    "for j in range(len(k)):\n",
    "    if ww[k[j]]==1\n",
    "    \n",
    "    u = ww[k[j]]\n",
    "    for u in range(u):\n",
    "        new.append(max(k)-)\n",
    "        \n",
    "print ww[max(k)]\n",
    "\n",
    "new.append(len(k)-)\n",
    "# for j in range(len(k)):\n",
    "#     if k[j] in b:\n",
    "#         print (b.index(k[j])+1)\n",
    "#         new.append(b.index(k[j])+1)\n",
    "\n",
    "\n",
    "# print (b)\n"
   ]
  },
  {
   "cell_type": "code",
   "execution_count": null,
   "metadata": {
    "collapsed": false
   },
   "outputs": [],
   "source": [
    "j=[2,2,1]\n",
    "b=list(set(j))\n",
    "print (b)\n"
   ]
  },
  {
   "cell_type": "code",
   "execution_count": null,
   "metadata": {
    "collapsed": false
   },
   "outputs": [],
   "source": [
    "max(ww)"
   ]
  },
  {
   "cell_type": "code",
   "execution_count": null,
   "metadata": {
    "collapsed": false
   },
   "outputs": [],
   "source": [
    "k=[3,2,1,2]\n",
    "\n",
    "obj=Series(k)"
   ]
  },
  {
   "cell_type": "code",
   "execution_count": 6,
   "metadata": {
    "collapsed": false
   },
   "outputs": [
    {
     "name": "stdout",
     "output_type": "stream",
     "text": [
      "[3, 2, 2, 1]\n",
      "[1, 2, 3, 4]\n"
     ]
    }
   ],
   "source": [
    "k=[3,2,1,2]\n",
    "\n",
    "k_sort = sorted(k)[::-1]\n",
    "\n",
    "print (k_sort)\n",
    "\n",
    "num=[]\n",
    "\n",
    "score=1\n",
    "num.append(score)\n",
    "for j in range(1,len(k)):\n",
    "    if k[j]==k[j-1]:\n",
    "        num.append(score)\n",
    "    else:\n",
    "        score=score+1\n",
    "        num.append(score)\n",
    "        \n",
    "print (num)"
   ]
  },
  {
   "cell_type": "code",
   "execution_count": 18,
   "metadata": {
    "collapsed": false
   },
   "outputs": [
    {
     "name": "stdout",
     "output_type": "stream",
     "text": [
      "{1: 1, 2: 2}\n",
      "[2, 2, 3]\n"
     ]
    }
   ],
   "source": [
    "k=[2,2,1]\n",
    "\n",
    "b=list(set(k))\n",
    "\n",
    "ww={}\n",
    "for lst in k:\n",
    "    try: ww[lst] +=1\n",
    "    except: ww[lst]=1\n",
    "print (ww)\n",
    "\n",
    "num=[]\n",
    "for j in range(len(k)):\n",
    "    for kk in range(len(ww)):\n",
    "        if k[j]==max(k):\n",
    "            score = ww[max(k)]\n",
    "            num.append(score)\n",
    "        \n",
    "    if k[j]==max(k):\n",
    "        score = ww[max(k)]\n",
    "        num.append(score)\n",
    "    elif k[j]==max(k)-1:\n",
    "        score = ww[max(k)]+1\n",
    "        num.append(score)\n",
    "    elif k[j]==max(k)-2:\n",
    "        score = ww[max(k)]+ww[max(k)-1]+1\n",
    "        num.append(score)\n",
    "    \n",
    "print (num)"
   ]
  },
  {
   "cell_type": "code",
   "execution_count": null,
   "metadata": {
    "collapsed": false
   },
   "outputs": [],
   "source": [
    "new=[]\n",
    "\n",
    "score=[]\n",
    "\n",
    "stack={}\n",
    "key=[]\n",
    "\n",
    "\n",
    "if ww[lst]==1:\n",
    "    \n",
    "else ww[lst]\n",
    "    \n",
    "\n",
    "\n",
    "key\n",
    "ww[max(k)]\n",
    "for j in range(len(k)):\n",
    "    "
   ]
  },
  {
   "cell_type": "code",
   "execution_count": 19,
   "metadata": {
    "collapsed": false
   },
   "outputs": [
    {
     "name": "stdout",
     "output_type": "stream",
     "text": [
      "2\n"
     ]
    }
   ],
   "source": [
    "print len(ww)"
   ]
  },
  {
   "cell_type": "code",
   "execution_count": 62,
   "metadata": {
    "collapsed": false
   },
   "outputs": [
    {
     "name": "stdout",
     "output_type": "stream",
     "text": [
      "[]120\n",
      "[]33\n"
     ]
    }
   ],
   "source": [
    "\n",
    "stack={}\n",
    "\n",
    "stack[0]='z'\n",
    "stack[1]='o'\n",
    "stack[2]='t'\n",
    "stack[3]='h'\n",
    "stack[4]='f'\n",
    "\n",
    "rule='zothf'\n",
    "A='otz'\n",
    "B='hh'\n",
    "\n",
    "ress=[]\n",
    "for j in range(len(A)):\n",
    "    res= zz(A[j])\n",
    "    ress =str(str(ress)+str(res))\n",
    "    \n",
    "ress2=[] \n",
    "for j in range(len(B)):\n",
    "    res= zz(B[j])\n",
    "    ress2 =str(str(ress2)+str(res))\n",
    "                \n",
    "print (ress)\n",
    "print (ress2)"
   ]
  },
  {
   "cell_type": "code",
   "execution_count": 64,
   "metadata": {
    "collapsed": false
   },
   "outputs": [
    {
     "data": {
      "text/plain": [
       "35"
      ]
     },
     "execution_count": 64,
     "metadata": {},
     "output_type": "execute_result"
    }
   ],
   "source": [
    "int(ress[len(ress)-3])*25+int(ress[len(ress)-2])*5+int(ress[len(ress)-1])*1"
   ]
  },
  {
   "cell_type": "code",
   "execution_count": 58,
   "metadata": {
    "collapsed": false
   },
   "outputs": [
    {
     "data": {
      "text/plain": [
       "'2'"
      ]
     },
     "execution_count": 58,
     "metadata": {},
     "output_type": "execute_result"
    }
   ],
   "source": [
    "ress[len(ress)-2]"
   ]
  },
  {
   "cell_type": "code",
   "execution_count": null,
   "metadata": {
    "collapsed": true
   },
   "outputs": [],
   "source": []
  }
 ],
 "metadata": {
  "kernelspec": {
   "display_name": "Python 2",
   "language": "python",
   "name": "python2"
  },
  "language_info": {
   "codemirror_mode": {
    "name": "ipython",
    "version": 2
   },
   "file_extension": ".py",
   "mimetype": "text/x-python",
   "name": "python",
   "nbconvert_exporter": "python",
   "pygments_lexer": "ipython2",
   "version": "2.7.13"
  }
 },
 "nbformat": 4,
 "nbformat_minor": 2
}
