{
 "cells": [
  {
   "cell_type": "markdown",
   "metadata": {},
   "source": [
    "## 1"
   ]
  },
  {
   "cell_type": "code",
   "execution_count": 23,
   "metadata": {
    "collapsed": false
   },
   "outputs": [
    {
     "name": "stdout",
     "output_type": "stream",
     "text": [
      "4 20\n",
      "80\n"
     ]
    }
   ],
   "source": [
    "import sys\n",
    "\n",
    "\n",
    "num=list(map(int,input().split()))\n",
    "\n",
    "for i in range(len(num)):\n",
    "    assert num[i]>0 and num[i]<1024\n",
    "\n",
    "result=num[0]*num[1]\n",
    "\n",
    "print (result)"
   ]
  },
  {
   "cell_type": "markdown",
   "metadata": {},
   "source": [
    "## 2"
   ]
  },
  {
   "cell_type": "code",
   "execution_count": null,
   "metadata": {
    "collapsed": true
   },
   "outputs": [],
   "source": [
    "import numpy as np\n",
    "\n",
    "def memcpy(v, dst, src, size):    \n",
    "    dst = int(dst)\n",
    "    src = int(src)\n",
    "    size = int(size)\n",
    "    \n",
    "    len_v = len(v)\n",
    "    \n",
    "    if size <= 0:\n",
    "        print_result (v)\n",
    "    elif len_v < src + size:\n",
    "        print ('may throw RuntimeException or do nothing')\n",
    "    \n",
    "    else:\n",
    "        temp = v[src:src+size]\n",
    "        v[dst:dst+size] = temp\n",
    "        print_result (v)\n",
    "        \n",
    "def print_result (v):\n",
    "    len_v = len(v)\n",
    "    temp_str = \"\"\n",
    "    for i in range (len_v-1):\n",
    "        temp_str += '%d' % (v[i]) + \" \"\n",
    "    \n",
    "    temp_str += '%d' % (v[len_v-1])\n",
    "                        \n",
    "    print (temp_str)\n",
    "        \n",
    "def get_int_from_str (str_input):\n",
    "    temp_str_split = str_input.split(' ')\n",
    "    temp_int = np.zeros ( len(temp_str_split) )\n",
    "    for i in range (len(temp_str_split)):\n",
    "        temp_int[i] = int (temp_str_split[i])\n",
    "    return temp_int\n",
    "\n",
    "n_input = int(input())\n",
    "\n",
    "temp = input().split()\n",
    "byte_array = np.zeros(len(temp))\n",
    "\n",
    "\n",
    "\n",
    "for i in range (n_input):\n",
    "    byte_array[i] = int(temp[i])\n",
    "\n",
    "v = byte_array\n",
    "\n",
    "str_input2 = input()\n",
    "str_input2 = get_int_from_str (str_input2)\n",
    "\n",
    "memcpy(v, str_input2[0], str_input2[1], str_input2[2])\n"
   ]
  },
  {
   "cell_type": "markdown",
   "metadata": {},
   "source": [
    "## 3\n",
    "\n",
    "\n",
    "4\n",
    "\n",
    "0101\n",
    "\n",
    "1000\n",
    "\n",
    "1000\n",
    "\n",
    "0010\n",
    "\n",
    "3\n",
    "\n",
    "\n",
    "답은 \n",
    "\n",
    "1\n",
    "\n",
    "\n"
   ]
  },
  {
   "cell_type": "code",
   "execution_count": null,
   "metadata": {
    "collapsed": true
   },
   "outputs": [],
   "source": [
    "import sys\n",
    "\n",
    "result=[]\n",
    "visit=set()\n",
    "def dfs(i):\n",
    "    result.append(i)\n",
    "    visit.add(i)\n",
    "    j=1\n",
    "    while j < n:\n",
    "        j+=1\n",
    "        if N[i][j] == 1 and j not in visit :\n",
    "            dfs(j)      \n",
    "    return result\n",
    "\n",
    "    \n",
    "n=int(input())\n",
    "\n",
    "N = [[0 for x in range(n+1)] for y in range(n+1)]\n",
    "for i in range(1,n+1):\n",
    "    a=str(input())\n",
    "    for j in range(1,n+1):\n",
    "        N[i][j]=int(a[j-1])\n",
    "\n",
    "m=int(input())\n",
    "\n",
    "\n",
    "cnt=0\n",
    "for k in range(n):\n",
    "    results = dfs(k)\n",
    "    if m <= len(results):\n",
    "        cnt+=1\n",
    "\n",
    "if cnt > 0:\n",
    "    print(\"1\")\n",
    "else:\n",
    "    print(\"0\")"
   ]
  },
  {
   "cell_type": "markdown",
   "metadata": {},
   "source": [
    "## 4"
   ]
  },
  {
   "cell_type": "code",
   "execution_count": null,
   "metadata": {
    "collapsed": true
   },
   "outputs": [],
   "source": [
    "import sys\n",
    "\n",
    "stack={}\n",
    "key=[]\n",
    "finish=\"1\"\n",
    "\n",
    "def evict():\n",
    "    a=key.pop()\n",
    "    del stack[a]  \n",
    "def add(keykey, value):\n",
    "    stack[keykey]=value\n",
    "    key.append(keykey)  \n",
    "def get(keykey):\n",
    "    if keykey in key:\n",
    "        print (stack[keykey])\n",
    "    else:\n",
    "        print(\"-1\")  \n",
    "def remove(keykey):\n",
    "    if len(stack)==0:\n",
    "        print(\"-1\")\n",
    "    else:\n",
    "        print (stack[keykey])\n",
    "    del stack[keykey]  \n",
    "while finish != 0:\n",
    "    order = input().split()\n",
    "\n",
    "    if order[0]==\"evict\":\n",
    "        evict()\n",
    "    elif order[0]==\"add\":\n",
    "        assert int(order[1])>0 and int(order[1])<=pow(2,30)\n",
    "        assert int(order[2])>0 and int(order[2])<=pow(2,30)\n",
    "        add(order[1],order[2])\n",
    "    elif order[0]==\"get\":\n",
    "        assert int(order[1])>0 and int(order[1])<=pow(2,30)\n",
    "        get(order[1])    \n",
    "    elif order[0]==\"remove\":\n",
    "        remove(order[1])\n",
    "    elif order[0]==\"exit\":\n",
    "        finish = 0"
   ]
  },
  {
   "cell_type": "markdown",
   "metadata": {},
   "source": [
    "## 5"
   ]
  },
  {
   "cell_type": "code",
   "execution_count": null,
   "metadata": {
    "collapsed": true
   },
   "outputs": [],
   "source": [
    "import sys\n",
    "\n",
    "stack={}\n",
    "key=[]\n",
    "finish=\"1\"\n",
    "\n",
    "def min():\n",
    "    if len(key)==0:\n",
    "        print(\"-1\")\n",
    "    else:\n",
    "        copy_arr=key.copy()\n",
    "        copy_arr.sort()\n",
    "        print (copy_arr[0])\n",
    "\n",
    "def add(value):\n",
    "    key.append(value)\n",
    "\n",
    "    \n",
    "def remove(key):\n",
    "    if len(key)==0:\n",
    "        print(\"-1\")\n",
    "    else:\n",
    "        print (key[0])\n",
    "        key=key[1:len(key)]  \n",
    "    \n",
    "while finish != 0:\n",
    "    order = input().split()\n",
    "  \n",
    "    if order[0]==\"min\":\n",
    "        min()\n",
    "    elif order[0]==\"add\":\n",
    "        assert int(order[1])>0 and int(order[1])<=pow(2,30)\n",
    "        add(order[1])\n",
    "    elif order[0]==\"remove\":\n",
    "        remove(key)\n",
    "    elif order[0]==\"exit\":\n",
    "        finish = 0"
   ]
  },
  {
   "cell_type": "code",
   "execution_count": null,
   "metadata": {
    "collapsed": true
   },
   "outputs": [],
   "source": []
  },
  {
   "cell_type": "code",
   "execution_count": null,
   "metadata": {
    "collapsed": true
   },
   "outputs": [],
   "source": []
  },
  {
   "cell_type": "code",
   "execution_count": null,
   "metadata": {
    "collapsed": true
   },
   "outputs": [],
   "source": []
  }
 ],
 "metadata": {
  "kernelspec": {
   "display_name": "Python 3",
   "language": "python",
   "name": "python3"
  },
  "language_info": {
   "codemirror_mode": {
    "name": "ipython",
    "version": 3
   },
   "file_extension": ".py",
   "mimetype": "text/x-python",
   "name": "python",
   "nbconvert_exporter": "python",
   "pygments_lexer": "ipython3",
   "version": "3.6.0"
  }
 },
 "nbformat": 4,
 "nbformat_minor": 2
}
