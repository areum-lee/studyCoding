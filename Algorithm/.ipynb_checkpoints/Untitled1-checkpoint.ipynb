{
 "cells": [
  {
   "cell_type": "markdown",
   "metadata": {},
   "source": [
    "## 1000\n",
    "\n",
    "두 수 A와 B를 입력받은 다음, A+B를 출력하는 프로그램을 작성하시오.\n",
    "\n",
    "입력\n",
    "\n",
    "첫째 줄에 A와 B가 주어진다. (0 < A, B < 10)"
   ]
  },
  {
   "cell_type": "code",
   "execution_count": null,
   "metadata": {
    "collapsed": false
   },
   "outputs": [],
   "source": [
    "a = input().split()\n",
    "\n",
    "a[0] = int (a[0])\n",
    "a[1]=int(a[1])\n",
    "\n",
    "if a[0]>0 and a[0]<10 and a[1]>0 and a[1]<10:\n",
    "    print(sum(a))"
   ]
  },
  {
   "cell_type": "markdown",
   "metadata": {},
   "source": [
    "## 1001\n",
    "\n",
    "A-B를 계산하시오.\n",
    "\n",
    "입력\n",
    "\n",
    "첫째 줄에 A와 B가 주어진다. (0< A, B < 10)"
   ]
  },
  {
   "cell_type": "code",
   "execution_count": null,
   "metadata": {
    "collapsed": false
   },
   "outputs": [],
   "source": [
    "a = input().split()\n",
    "\n",
    "a[0] = int (a[0])\n",
    "a[1]=int(a[1])\n",
    "\n",
    "if a[0]>0 and a[0]<10 and a[1]>0 and a[1]<10:\n",
    "    print(a[0]-a[1])"
   ]
  },
  {
   "cell_type": "markdown",
   "metadata": {},
   "source": [
    "## 1002\n",
    "\n",
    "이석원은 조규현과 백승환에게 상대편 마린(류재명)의 위치를 계산하라는 명령을 내렸다. 조규현과 백승환은 각각 자신의 터렛 위치에서 현재 적까지의 거리를 계산했다.\n",
    "\n",
    "조규현의 좌표 (x1, y1)와 백승환의 좌표 (x2, y2)가 주어지고, 조규현이 계산한 류재명과의 거리 r1과 백승환이 계산한 류재명과의 거리 r2가 주어졌을 때, 류재명이 있을 수 있는 좌표의 수를 출력하는 프로그램을 작성하시오.\n",
    "\n",
    "입력\n",
    "\n",
    "첫째 줄에 테스트 케이스의 개수 T가 주어진다. 각 테스트 케이스는 다음과 같이 구성되어있다.\n",
    "\n",
    "한 줄에 x1, y1, r1, x2, y2, r2가 주어진다. x1, y1, x2, y2는 -10,000보다 크거나 같고, 10,000보다 작거나 같은 정수이고, r1, r2는 10,000보다 작거나 같은 자연수이다.\n",
    "\n",
    "\n",
    "\n",
    "3\n",
    "\n",
    "0 0 13 40 0 37\n",
    "\n",
    "0 0 3 0 7 4\n",
    "\n",
    "1 1 1 1 1 5"
   ]
  },
  {
   "cell_type": "code",
   "execution_count": 3,
   "metadata": {
    "collapsed": false
   },
   "outputs": [
    {
     "name": "stdout",
     "output_type": "stream",
     "text": [
      "1\n",
      "0 10001 13 40 0 37\n"
     ]
    },
    {
     "ename": "AssertionError",
     "evalue": "",
     "output_type": "error",
     "traceback": [
      "\u001b[0;31m---------------------------------------------------------------------------\u001b[0m",
      "\u001b[0;31mAssertionError\u001b[0m                            Traceback (most recent call last)",
      "\u001b[0;32m<ipython-input-3-2671c81b693d>\u001b[0m in \u001b[0;36m<module>\u001b[0;34m()\u001b[0m\n\u001b[1;32m     15\u001b[0m     \u001b[1;32mfor\u001b[0m \u001b[0mk\u001b[0m \u001b[1;32min\u001b[0m \u001b[0mrange\u001b[0m\u001b[1;33m(\u001b[0m\u001b[0mlen\u001b[0m\u001b[1;33m(\u001b[0m\u001b[0ma_val\u001b[0m\u001b[1;33m)\u001b[0m\u001b[1;33m)\u001b[0m\u001b[1;33m:\u001b[0m\u001b[1;33m\u001b[0m\u001b[0m\n\u001b[1;32m     16\u001b[0m         \u001b[1;32massert\u001b[0m \u001b[0ma_val\u001b[0m\u001b[1;33m[\u001b[0m\u001b[0mk\u001b[0m\u001b[1;33m]\u001b[0m \u001b[1;33m>=\u001b[0m \u001b[1;33m-\u001b[0m\u001b[1;36m10000\u001b[0m\u001b[1;33m\u001b[0m\u001b[0m\n\u001b[0;32m---> 17\u001b[0;31m         \u001b[1;32massert\u001b[0m \u001b[0ma_val\u001b[0m\u001b[1;33m[\u001b[0m\u001b[0mk\u001b[0m\u001b[1;33m]\u001b[0m \u001b[1;33m<=\u001b[0m \u001b[1;36m10000\u001b[0m\u001b[1;33m\u001b[0m\u001b[0m\n\u001b[0m\u001b[1;32m     18\u001b[0m \u001b[1;33m\u001b[0m\u001b[0m\n\u001b[1;32m     19\u001b[0m     \u001b[1;32mfor\u001b[0m \u001b[0mk\u001b[0m \u001b[1;32min\u001b[0m \u001b[0mrange\u001b[0m\u001b[1;33m(\u001b[0m\u001b[0mlen\u001b[0m\u001b[1;33m(\u001b[0m\u001b[0mr_val\u001b[0m\u001b[1;33m)\u001b[0m\u001b[1;33m)\u001b[0m\u001b[1;33m:\u001b[0m\u001b[1;33m\u001b[0m\u001b[0m\n",
      "\u001b[0;31mAssertionError\u001b[0m: "
     ]
    }
   ],
   "source": [
    "times = int(input())\n",
    "a = list()\n",
    "\n",
    "a_val={}\n",
    "r_val={}\n",
    "for i in range(times):\n",
    "    input_a = list(map(int, input().split()))\n",
    "    a_val[0] = input_a[0]\n",
    "    a_val[1] = input_a[1]\n",
    "    r_val[0] = input_a[2]\n",
    "    a_val[2] = input_a[3]\n",
    "    a_val[3] = input_a[4]\n",
    "    r_val[1] = input_a[5]\n",
    "\n",
    "    for k in range(len(a_val)):\n",
    "        assert a_val[k] >= -10000\n",
    "        assert a_val[k] <= 10000\n",
    "        \n",
    "    for k in range(len(r_val)):\n",
    "        assert r_val[k] <=10000\n",
    "        assert r_val[k] > 0\n",
    "    \n",
    "    r_plus=r_val[0]+r_val[1]\n",
    "    r_min = abs(r_val[0]-r_val[1])\n",
    "    dist= (((a_val[1]-a_val[0])**2 )+((a_val[3]-a_val[2])**2 ))**0.5\n",
    "    \n",
    "    if a_val[0]== aval[3]  and a_val[1]== aval[4]:\n",
    "        if r_val[0]== r_val[1]:\n",
    "            print (\"-1\")\n",
    "        else:\n",
    "            print (\"0\")\n",
    "    elif r_plus < dist:\n",
    "        print (\"0\")\n",
    "    elif r_plus = dist:\n",
    "        print (\"1\")\n",
    "    elif r_plus > dist:\n",
    "        print (\"2\")\n",
    "    elif \n",
    "    \n",
    "        \n",
    "    \n",
    "        \n",
    "# for i in range(times):\n",
    "#     input_a = list(map(int, input().split()))\n",
    "#     x1 = input_a[0]\n",
    "#     y1 = input_a[1]\n",
    "#     r1 = input_a[2]\n",
    "#     x2 = input_a[3]\n",
    "#     y2 = input_a[4]\n",
    "#     r2 = input_a[5]\n",
    "#     r = r1 + r2\n",
    "#     r_minus = abs(r1 - r2)\n",
    "#     i = (((x1 - x2) ** 2) + ((y1 - y2) ** 2)) ** 0.5\n",
    "    \n",
    "#     if x1 == x2 and y1 == y2:\n",
    "#         if r1 == r2:\n",
    "#             a.append(-1)\n",
    "#         else:\n",
    "#             a.append(0)\n",
    "#     else:\n",
    "#         if r > i and i > r_minus:\n",
    "#             a.append(2)\n",
    "#         elif r == i or r_minus == i:\n",
    "#             a.append(1)\n",
    "#         else:\n",
    "#             a.append(0)\n",
    "            \n",
    "# for t in range(len(a)):\n",
    "#     print(a[t])\n",
    "    "
   ]
  },
  {
   "cell_type": "code",
   "execution_count": null,
   "metadata": {
    "collapsed": true
   },
   "outputs": [],
   "source": []
  },
  {
   "cell_type": "code",
   "execution_count": null,
   "metadata": {
    "collapsed": true
   },
   "outputs": [],
   "source": []
  },
  {
   "cell_type": "code",
   "execution_count": null,
   "metadata": {
    "collapsed": true
   },
   "outputs": [],
   "source": []
  },
  {
   "cell_type": "code",
   "execution_count": null,
   "metadata": {
    "collapsed": true
   },
   "outputs": [],
   "source": []
  }
 ],
 "metadata": {
  "kernelspec": {
   "display_name": "Python 3",
   "language": "python",
   "name": "python3"
  },
  "language_info": {
   "codemirror_mode": {
    "name": "ipython",
    "version": 3
   },
   "file_extension": ".py",
   "mimetype": "text/x-python",
   "name": "python",
   "nbconvert_exporter": "python",
   "pygments_lexer": "ipython3",
   "version": "3.6.0"
  }
 },
 "nbformat": 4,
 "nbformat_minor": 2
}
